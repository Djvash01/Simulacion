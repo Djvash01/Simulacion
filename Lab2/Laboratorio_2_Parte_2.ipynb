{
 "cells": [
  {
   "cell_type": "markdown",
   "metadata": {},
   "source": [
    "# Laboratorio 2\n",
    "\n",
    "### Modelos no paramétricos\n",
    "\n",
    "### Clasificaci&oacute;n con K-Nearest-Neighbors & Ventana de Parzen\n",
    "\n",
    "### Universidad de Antioquia\n",
    "\n",
    "### Facultad de Ingeniería\n",
    "\n",
    "### Ingeniería de Sistemas\n",
    "\n",
    "### Ude@ - 2018-I\n",
    "\n",
    "#### Profesor: Antonio Tamayo Herrera\n"
   ]
  },
  {
   "cell_type": "markdown",
   "metadata": {},
   "source": [
    "### Integrantes:\n",
    "\n",
    "#### Nombre: David de Jesus Yepes Isaza\n",
    "#### Cédula: 1020455542\n",
    "\n",
    "#### Nombre: Rodrigo Antonio Porras Martinez\n",
    "#### Cédula: 1039459720\n",
    "\n"
   ]
  },
  {
   "cell_type": "markdown",
   "metadata": {},
   "source": [
    "## Guía del laboratorio\n",
    "\n",
    "En este archivo va a encontrar tanto celdas de código cómo celdas de texto con las instrucciones para desarrollar el laboratorio.\n",
    "\n",
    "Lea atentamente las instrucciones entregadas en las celdas de texto correspondientes y proceda con la solución de las preguntas planteadas.\n",
    "\n",
    "Nota: no olvide ir ejecutando las celdas de código de arriba hacia abajo para que no tenga errores de importación de librerías o por falta de definición de variables."
   ]
  },
  {
   "cell_type": "code",
   "execution_count": 21,
   "metadata": {},
   "outputs": [],
   "source": [
    "import numpy as np\n",
    "import matplotlib.pyplot as plt\n",
    "from __future__ import division\n",
    "from scipy import stats\n",
    "from scipy.spatial import distance\n",
    "\n",
    "#Método para calcular la distancia entre dos vectores\n",
    "def dist_euclidiana(x1, x2):\n",
    "    \n",
    "    dist = distance.euclidean(x1, x2)\n",
    "    \n",
    "    return dist\n"
   ]
  },
  {
   "cell_type": "markdown",
   "metadata": {
    "collapsed": true
   },
   "source": [
    "## Ejercicio 1\n",
    "\n",
    "Analice los siguientes métodos a la luz de la teoría vista para los modelos de K vecinos más cercanos (KNN) y ventana de Parzen. Una vez comprenda su funcionamiento proceda a completar el código del método KNN.\n"
   ]
  },
  {
   "cell_type": "code",
   "execution_count": 70,
   "metadata": {},
   "outputs": [],
   "source": [
    "from scipy.stats import mode\n",
    "import operator\n",
    "\n",
    "#Error cuadrático medio para los problemas de regresión\n",
    "def ECM(Y_est,Y):\n",
    "    N = np.size(Y)\n",
    "    ecm = sum((Y_est - Y)**2)/(2*N)\n",
    "    \n",
    "    return ecm\n",
    "\n",
    "#Para calcular el error en los problemas de clasificación\n",
    "def error(Y_lest, Y):\n",
    "    error = 0\n",
    "    for ye, y in zip(Y_lest, Y):\n",
    "        if ye != y:\n",
    "            error += 1\n",
    "    \n",
    "    error = error/np.size(Y)\n",
    "    \n",
    "    return error\n",
    "\n",
    "\n",
    "def KNN(X_train, Y_train, X_val, Y_val, knn, tipo):\n",
    "    \n",
    "    k = knn    #Parámetro k que equivale al número de vecinos a tener en cuenta para resolver el problema de\n",
    "               #predicción de la variable de salida\n",
    "    \n",
    "    Y_est = []\n",
    "    \n",
    "    for x1 in X_val:\n",
    "        distances = dict()\n",
    "        for x2, y2 in zip(X_train, Y_train):\n",
    "            distances.update({dist_euclidiana(x1,x2): y2})\n",
    "    \n",
    "        #k vecinos más cercanos cercanos\n",
    "        vecinos = sorted(distances.items(), key=operator.itemgetter(0))\n",
    "        #print vecinos\n",
    "        \n",
    "        #Complete aquí el código para tomar solo la variables de salida de los k vecinos más cercanos\n",
    "        y_vecinos = []\n",
    "        for v in vecinos[:knn]:\n",
    "            y_vecinos.append(v[1])\n",
    "        \n",
    "        #Se calcula la variable de salida\n",
    "        #Regression\n",
    "        if tipo == 'regression':\n",
    "            #Complete el código aquí para calcular la variable de salida en el problema de regresión\n",
    "            #y_est = \n",
    "            Y_est.append(y_est)\n",
    "        #Classification\n",
    "        elif tipo == 'classification':\n",
    "            #Complete el código aquí para calcular la variable de salida en el problema de clasificación\n",
    "            mode = stats.mode(y_vecinos, axis=None)\n",
    "            #print(mode)\n",
    "            #print('mode[0]:'+mode[0])\n",
    "            y_est = mode[0]\n",
    "            Y_est.append(y_est[0])\n",
    "            #print(Y_est)\n",
    "    \n",
    "    if tipo == 'regression':\n",
    "        print (\"Modelo KNN para regresión\\n\\n\"+\"El Error cuadrático medio del modelo con \" + str(k) + \" vecinos es = \" + str(ECM(Y_est, Y_val)))\n",
    "    elif tipo == 'classification':\n",
    "        print (\"Modelo KNN para clasificación\\n\\n\"+\"El Error de clasificación del modelo con \" + str(k) + \" vecinos es = \" + str(error(Y_est,Y_val)))\n",
    "        "
   ]
  },
  {
   "cell_type": "markdown",
   "metadata": {},
   "source": [
    "## Ejercicio 2\n",
    "\n",
    "Ahora va a resolver un problema de clasificación con el método KNN. A continuación se leen los datos de un problema de clasificación triclase. Las variables o caracterísicas son guardadas en la variable X que posteriormente es normalizada y la variable de salida (clase $0$, $1$ o $2$ ) es guardada en la variable Y. Note que la base de datos de entrenamiento se parte, de manera aleatoria, para entrenamiento y validación. Analice el siguiente c&oacute;digo y responda a las siguientes preguntas."
   ]
  },
  {
   "cell_type": "code",
   "execution_count": 92,
   "metadata": {},
   "outputs": [],
   "source": [
    "#cargamos la bd iris desde el dataset de sklearn\n",
    "from sklearn import datasets\n",
    "from sklearn.preprocessing import normalize\n",
    "\n",
    "iris = datasets.load_iris()\n",
    "\n",
    "#Esta es la base de datos Iris del UCI Machine Learning Repository \n",
    "#https://archive.ics.uci.edu/ml/datasets/iris\n",
    "\n",
    "X, Y = iris.data, iris.target\n",
    "\n",
    "\n",
    "#Normalizamos los datos\n",
    "X = normalize(X, axis=0, norm='l1')\n",
    "\n",
    "#Partición de la base de datos\n",
    "Nsample = np.size(X,0);\n",
    "#print(Nsample)\n",
    "indices = np.random.permutation(Nsample);\n",
    "#print(np.shape(indices))\n",
    "#print(indices)\n",
    "#print(int(round(0.7*Nsample)))\n",
    "\n",
    "#Conjunto de muestras de entrenamiento\n",
    "Xtrain = X[indices[1:int(round(0.7*Nsample))],:]\n",
    "Ytrain = Y[indices[1:int(round(0.7*Nsample))]]\n",
    "\n",
    "#Conjunto de muestras de validación\n",
    "Xtest = X[indices[int(round(0.7*Nsample))+1:Nsample],:]\n",
    "Ytest = Y[indices[int(round(0.7*Nsample))+1:Nsample]]"
   ]
  },
  {
   "cell_type": "markdown",
   "metadata": {},
   "source": [
    "2.1 Describa la base de datos de entrenamiento. Diga cu&aacute;ntas muestras tiene en total y cu&aacute;ntas caracter&iacute;sticas.\n",
    "\n",
    "2.2 Qu&eacute; porcentaje de la base de datos se usa para el entrenamiento del modelo? A cu&aacute;ntas muestras corresponde esto? Cu&aacute;ntas muestras se usan para la validaci&oacute;n?"
   ]
  },
  {
   "cell_type": "markdown",
   "metadata": {},
   "source": [
    "Responda Aqu&iacute;:\n",
    "\n",
    "2.1 R/: El conjunto de datos contiene $3$ clases de $50$ instancias cada una, donde cada clase se refiere a un tipo de planta de iris. Una clase es linealmente separable de los otros $2$; estos últimos NO son linealmente separables el uno del otro. Tiene $150$ muestras, $50$ por cada clase de flor y tiene $4$ caracteristicas todas son numericas y en Centimestros: largo y ancho del sepalo y largo y ancho del petalo\n",
    "\n",
    "2.2 R/: Para el entrenamiento se usa el $70\\%$ y corresponde a  $105$ muestras y para la validacion se usan $45$ muestras "
   ]
  },
  {
   "cell_type": "code",
   "execution_count": 94,
   "metadata": {},
   "outputs": [
    {
     "name": "stdout",
     "output_type": "stream",
     "text": [
      "Modelo KNN para clasificación\n",
      "\n",
      "El Error de clasificación del modelo con 1 vecinos es = 0.06818181818181818\n",
      "Modelo KNN para clasificación\n",
      "\n",
      "El Error de clasificación del modelo con 3 vecinos es = 0.06818181818181818\n",
      "Modelo KNN para clasificación\n",
      "\n",
      "El Error de clasificación del modelo con 5 vecinos es = 0.06818181818181818\n",
      "Modelo KNN para clasificación\n",
      "\n",
      "El Error de clasificación del modelo con 7 vecinos es = 0.06818181818181818\n",
      "Modelo KNN para clasificación\n",
      "\n",
      "El Error de clasificación del modelo con 9 vecinos es = 0.06818181818181818\n",
      "Modelo KNN para clasificación\n",
      "\n",
      "El Error de clasificación del modelo con 11 vecinos es = 0.06818181818181818\n"
     ]
    }
   ],
   "source": [
    "##### Completa el código llamado al método KNN con sus respectivos argumentos para el problema de clasificación\n",
    "tipo=\"classification\"\n",
    "for k in range(1,12,2):\n",
    "    KNN(Xtrain,Ytrain,Xtest,Ytest,k,tipo)"
   ]
  },
  {
   "cell_type": "markdown",
   "metadata": {},
   "source": [
    "## Ejercicio 3\n",
    "\n",
    "Identifique la variable k (número de vecinos más cercanos definido para el modelo KNN) en el método KNN. En la celda de c&oacute;digo anterior, llame al método KNN cambiando el valor de $k$ de acuerdo a la siguiente tabla y complete la columna Error de clasificaci&oacute;n.\n",
    "\n",
    "<table>\n",
    "  <tr>\n",
    "    <th>K (número de vecinos)</th>\n",
    "    <th>Error de clasificación</th>\n",
    "  </tr>\n",
    "  <tr>\n",
    "    <td>1</td>\n",
    "    <td>0.09090909090909091</td>\n",
    "  </tr>\n",
    "  <tr>\n",
    "    <td>3</td>\n",
    "    <td>0.06818181818181818</td>\n",
    "  </tr>\n",
    "  <tr>\n",
    "    <td>5</td>\n",
    "    <td>0.06818181818181818</td>\n",
    "  </tr>\n",
    "  <tr>\n",
    "    <td>7</td>\n",
    "    <td>0.06818181818181818</td>\n",
    "  </tr>\n",
    "  <tr>\n",
    "    <td>9</td>\n",
    "    <td>0.06818181818181818</td>\n",
    "  </tr>\n",
    "  <tr>\n",
    "    <td>11</td>\n",
    "    <td>0.06818181818181818</td>\n",
    "  </tr>\n",
    "    \n",
    "</table>\n",
    "\n",
    "\n",
    "3.1 En el modelo KNN, qué criterio estadístico está usando para tomar la decisión final y asignar la clase a una nueva muestra y por qué? \n"
   ]
  },
  {
   "cell_type": "markdown",
   "metadata": {},
   "source": [
    "Responda aquí:\n",
    "    \n",
    "3.1 R/: Se toma el criterio de la moda y de preferencia que K sea impar,  des esta manera seleciona la clase de los vecinos que estan mas cerca. "
   ]
  },
  {
   "cell_type": "markdown",
   "metadata": {},
   "source": [
    "3.2 ¿Por qué cree que se deben armar los conjuntos de entrenamiento y\n",
    "prueba de forma aleatoria? Analice la forma como se carga la base de datos y a partir de all&iacute; argumente su respuesta."
   ]
  },
  {
   "cell_type": "markdown",
   "metadata": {},
   "source": [
    "Responda aquí:\n",
    "    \n",
    "3.2 R/: Al formar conjuntos de muestras de maneras aleatorias, evitamos que el modelo solo sea efectivo para un grupo de validacion especifico. Comparamos los resultados que tiene con cada grupo de muestras y podemos notar que el error no es constante pero esta entre un intervalo de 3 a 1 muestras mal predichas por grupo de 45 muestras de validacion. Existe ocasiones en los que  el error de clasificacion es 0, pero al ejecutar varias veces vemos que solo pasa para ese grupo aleatorio de muestras. Para la reconocer que el modelo esta predicciendo correctamente las clases se debe probar con muchas grupos de muestras."
   ]
  },
  {
   "cell_type": "markdown",
   "metadata": {},
   "source": [
    "## Ejercicio 4\n",
    "\n",
    "A continuación debe completar el código del método parzen para resolver problemas de clasificación con el modelo ventana de Parzen."
   ]
  },
  {
   "cell_type": "code",
   "execution_count": 171,
   "metadata": {},
   "outputs": [],
   "source": [
    "#Calcula el kernel gaussiano de x\n",
    "def kernel_gaussiano(x):\n",
    "    return (1/np.sqrt(2*np.pi))*np.exp((-0.5)*x**2)\n",
    "\n",
    "def parzen(X_train1, Y_train1, X_train2, Y_train2, X_train3, Y_train3, X_val, Y_val, ancho_h):\n",
    "    \n",
    "    h = ancho_h\n",
    "    d=np.size(X_val,1)\n",
    "    #print(d)\n",
    "    model1 = []\n",
    "    model2 = []\n",
    "    model3 = []\n",
    "    Y_est = []\n",
    "    \n",
    "    for x1 in X_val:\n",
    "        \n",
    "        y_est1 = 0\n",
    "        distances1 = []\n",
    "        \n",
    "        y_est2 = 0\n",
    "        distances2 = []\n",
    "        \n",
    "        y_est3 = 0\n",
    "        distances3 = []\n",
    "        \n",
    "        for x2_1, x2_2, x2_3 in zip(X_train1, X_train2, X_train3):\n",
    "            #Complete aquí el código para calcular las ditancias en los tres modelos\n",
    "            distances1.append(dist_euclidiana(x1,x2_1))\n",
    "            distances2.append(dist_euclidiana(x1,x2_2))\n",
    "            distances3.append(dist_euclidiana(x1,x2_3))\n",
    "    \n",
    "        #Complete el código aquí con las fdp para los tres modelos\n",
    "        #implemente los modelos de ventana de Parzen por clase\n",
    "        #distances1=np.asarray(distances1)\n",
    "        #distances2=np.asarray(distances2)\n",
    "        #distances3=np.asarray(distances3)\n",
    "        y_est1 = sum(kernel_gaussiano(np.divide(distances1,h)))/(np.size(X_train1,0)*(h**d))  \n",
    "        model1.append(y_est1)\n",
    "        \n",
    "        y_est2 =  (sum(kernel_gaussiano(np.divide(distances2,h))))/(np.size(X_train2,0)*(h**d))\n",
    "        model2.append(y_est2)\n",
    "        \n",
    "        y_est3 =  (sum(kernel_gaussiano(np.divide(distances3,h))))/(np.size(X_train3,0)*(h**d))\n",
    "        model3.append(y_est3)\n",
    "   \n",
    "    #Se asigna la clase a la nueva muestra\n",
    "    for y1, y2, y3 in zip(model1, model2, model3):\n",
    "        clase = 0\n",
    "        if y2 > y1:\n",
    "            clase = 1\n",
    "            if y3 > y2:\n",
    "                clase = 2\n",
    "        elif y3 > y1:\n",
    "            clase = 2\n",
    "    \n",
    "        Y_est.append(clase)\n",
    "            \n",
    "    print (\"Modelo ventana de Parzen para clasificación\\n\\n\"+\"El Error de clasificación con h = \" + str(h) + \" es = \" + str(error(Y_est, Y_val)))\n"
   ]
  },
  {
   "cell_type": "markdown",
   "metadata": {},
   "source": [
    "## Ejercicio 5\n",
    "\n",
    "Ahora debe resolver un problema de clasificación con el método ventana de Parzen. A continuación se leen los datos de un problema de clasificación triclase. Las variables o caracterísicas son guardadas en la variable X que posteriormente es normalizada y la variable de salida (clase $0$, $1$ o $2$ ) es guardada en la variable Y. Usted debe realizar la separación de las observaciones muestrales por clase, recuerde que este es un requisito para resolver problemas de clasificación con este modelo y que debe implementar un modelo por cada clase del problema.\n",
    "Una vez tenga la base de datos de entrenamiento separada por clases, haga una partición de manera aleatoria en un 70% de las muestras para entrenamiento y un 30% de las muestras para validación."
   ]
  },
  {
   "cell_type": "code",
   "execution_count": 172,
   "metadata": {},
   "outputs": [],
   "source": [
    "#cargamos la bd iris desde el dataset de sklearn\n",
    "from sklearn import datasets\n",
    "iris = datasets.load_iris()\n",
    "\n",
    "#Esta es la base de datos Iris del UCI Machine Learning Repository \n",
    "#https://archive.ics.uci.edu/ml/datasets/iris\n",
    "\n",
    "X, Y = iris.data, iris.target\n",
    "\n",
    "\n",
    "#Normalizamos los datos\n",
    "X = normalize(X, axis=0, norm='l1')\n",
    "\n",
    "#Separación de muestras por clase\n",
    "#Complete el código aquí (Analice la base de datos de entrenamiento y observe que es muy sencillo hacer la separación)\n",
    "\n",
    "\n",
    "X0 = X[:50,:]\n",
    "Y0 = Y[:50]\n",
    "\n",
    "X1 =X[50:100,:] \n",
    "Y1 = Y[50:100]\n",
    "\n",
    "X2 = X[100:,:]\n",
    "Y2 = Y[100:]\n",
    "\n",
    "#print(np.shape(Y2))\n",
    "\n",
    "#Partición de la base de datos en 70%-30% para entrenamiento y validación respectivamente\n",
    "Nsample0 = np.size(X0,0);\n",
    "indices0 = np.random.permutation(Nsample0);\n",
    "\n",
    "Nsample1 = np.size(X1,0);\n",
    "indices1 = np.random.permutation(Nsample1);\n",
    "\n",
    "Nsample2 = np.size(X2,0);\n",
    "indices2 = np.random.permutation(Nsample2);\n",
    "\n",
    "\n",
    "#Conjunto de muestras de entrenamiento clase 0\n",
    "Xtrain0 = X0[indices0[0:int(round(0.7*Nsample0))],:]\n",
    "Ytrain0 = Y0[indices0[0:int(round(0.7*Nsample0))]]\n",
    "\n",
    "#Conjunto de muestras de validación clase 0\n",
    "Xtest0 = X0[indices0[int(round(0.7*Nsample0))+1:Nsample0],:]\n",
    "Ytest0 = Y0[indices0[int(round(0.7*Nsample0))+1:Nsample0]]\n",
    "\n",
    "#Conjunto de muestras de entrenamiento clase 1\n",
    "Xtrain1 = X1[indices1[0:int(round(0.7*Nsample1))],:]\n",
    "Ytrain1 = Y1[indices1[0:int(round(0.7*Nsample1))]]\n",
    "\n",
    "#Conjunto de muestras de validación clase 1\n",
    "Xtest1 = X1[indices1[int(round(0.7*Nsample1))+1:Nsample1],:]\n",
    "Ytest1 = Y1[indices1[int(round(0.7*Nsample1))+1:Nsample1]]\n",
    "\n",
    "#Conjunto de muestras de entrenamiento clase 2\n",
    "Xtrain2 = X2[indices2[0:int(round(0.7*Nsample2))],:]\n",
    "Ytrain2 = Y2[indices2[0:int(round(0.7*Nsample2))]]\n",
    "\n",
    "#Conjunto de muestras de validación clase 2\n",
    "Xtest2 = X2[indices2[int(round(0.7*Nsample2))+1:Nsample2],:]\n",
    "Ytest2 = Y2[indices2[int(round(0.7*Nsample2))+1:Nsample2]]\n",
    "\n",
    "#Concatenamos las muestras de validación\n",
    "Xtest = np.concatenate((Xtest0,Xtest1,Xtest2), axis=0)\n",
    "Ytest = np.concatenate((Ytest0,Ytest1,Ytest2))\n",
    "#print(np.size(Ytest))\n"
   ]
  },
  {
   "cell_type": "code",
   "execution_count": 177,
   "metadata": {},
   "outputs": [
    {
     "name": "stdout",
     "output_type": "stream",
     "text": [
      "4\n",
      "Modelo ventana de Parzen para clasificación\n",
      "\n",
      "El Error de clasificación con h = 10 es = 0.09523809523809523\n"
     ]
    }
   ],
   "source": [
    "#Completa la siguiente línea con el llamado al método parzen con sus respectivos argumentos\n",
    "h=10\n",
    "parzen(Xtrain0, Ytrain0, Xtrain1, Ytrain1, Xtrain2, Ytrain2, Xtest, Ytest, h)"
   ]
  },
  {
   "cell_type": "markdown",
   "metadata": {
    "collapsed": true
   },
   "source": [
    "## Ejercicio 6\n",
    "\n",
    "Identifique la variable h (ancho de la ventana $h$) en el método parzen. Llame al método parzen cambiando el valor de $h$ de acuerdo a la siguiente tabla y complete la columna Error de clasificación.\n",
    "\n",
    "<table>\n",
    "  <tr>\n",
    "    <th>h (ancho de la ventana)</th>\n",
    "    <th>Error de clasificación</th>\n",
    "  </tr>\n",
    "  <tr>\n",
    "    <td>0.001</td>\n",
    "    <td>0.047619047619047616</td>\n",
    "  </tr> \n",
    "  <tr>\n",
    "    <td>0.01</td>\n",
    "    <td>0.07142857142857142</td>\n",
    "  </tr>\n",
    "  <tr>\n",
    "    <td>0.1</td>\n",
    "    <td>0.07142857142857142</td>\n",
    "  </tr>\n",
    "  <tr>\n",
    "    <td>1</td>\n",
    "    <td>0.07142857142857142</td>\n",
    "  </tr>\n",
    "  <tr>\n",
    "    <td>10</td>\n",
    "    <td>0.07142857142857142</td>\n",
    "  </tr>\n",
    "</table>\n",
    "\n",
    "\n",
    "6.1 Por qué el modelo de ventana de Parzen es un modelo no paramétrico? \n"
   ]
  },
  {
   "cell_type": "markdown",
   "metadata": {},
   "source": [
    "Responda aquí:\n",
    "    \n",
    "6.1 R/: Es un modelo no parametrico porque no supone el orden o forma de como estan distribuidos los datos"
   ]
  },
  {
   "cell_type": "code",
   "execution_count": null,
   "metadata": {},
   "outputs": [],
   "source": []
  }
 ],
 "metadata": {
  "kernelspec": {
   "display_name": "Python 3",
   "language": "python",
   "name": "python3"
  },
  "language_info": {
   "codemirror_mode": {
    "name": "ipython",
    "version": 3
   },
   "file_extension": ".py",
   "mimetype": "text/x-python",
   "name": "python",
   "nbconvert_exporter": "python",
   "pygments_lexer": "ipython3",
   "version": "3.6.4"
  }
 },
 "nbformat": 4,
 "nbformat_minor": 2
}
