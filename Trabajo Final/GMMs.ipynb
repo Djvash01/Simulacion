{
 "cells": [
  {
   "cell_type": "markdown",
   "metadata": {},
   "source": [
    "# Trabajo Final\n",
    "\n",
    "###  CLASIFICACION CON GMMs\n",
    "\n",
    "### Universidad de Antioquia\n",
    "\n",
    "### Facultad de Ingeniería\n",
    "\n",
    "### Ingeniería de Sistemas\n",
    "\n",
    "### Ude@ - 2018-I\n",
    "\n",
    "#### Profesor: Antonio Tamayo Herrera\n",
    "\n",
    "### Integrantes:\n",
    "\n",
    "Nombre: David de Jesus Yepes Isaza\n",
    "\n",
    "Cédula: 1020455542\n",
    "\n",
    "Nombre: Rodrigo Antonio Porras Martinez\n",
    "\n",
    "Cédula: 1039459720"
   ]
  },
  {
   "cell_type": "markdown",
   "metadata": {},
   "source": [
    "### Clasificación en el dataset \"Heart Disease Data Set\" con GaussianMixture\n",
    "\n",
    "La base de datos con las que se trabaja en el presente artículo fue extraída de  Cleveland Clinic Foundation y fue creada por V.A. Medical Center, Long Beach and Cleveland Clinic Foundation: Robert Detrano, M.D., Ph.D.\n",
    "\n",
    "El set de datos de de Cleveland consta de 303 instancias, la variable de salida o etiqueta son 0 para la ausencia y los valores 1, 2, 3 y 4 para la presencia de enfermedades. \n",
    " \n",
    "El 54% de las instancias tienen ausencia de enfermedades y 46% tienen presencia de enfermedades del corazón. Para simplificar el problema se analiza como un problema biclase donde  “0” son personas sanas y “1” que corresponde a (1,2,3,4) son personas enfermas.\n",
    "\n",
    "El objetivo es según las características de cada paciente identificar cuál de ellos presenta presencia de enfermedades y cuáles no.\n",
    "\n",
    "La base de datos contiene 303 muestras con las 14 características siguientes:\n",
    "1. N° 3 (edad)   \n",
    "2. N° 4 (sexo) \n",
    "3. N° 9 (cp) tipo de dolor en el pecho\n",
    "        Valor 1: angina típica\n",
    "        Valor 2: angina atípica\n",
    "        Valor 3: dolor no anginal\n",
    "        Valor 4: asintomático  \n",
    "4. N° 10 (trestbps) presión arterial en reposo\n",
    "5. N° 12 (chol) colesterol sérico en mg / dl (miligramo por decilitro)\n",
    "6. N° 16 (fbs) (azúcar en la sangre en ayunas > 120 mg / dl) (1 = verdadero, 0 = falso)\n",
    "7. N° 19 (restecg)  resultados electrocardiográficos en reposo:\n",
    "        Valor 0: normal\n",
    "        Valor 1: tiene anormalidad de onda ST-T (inversiones de onda T y / o ST  elevación o depresión de > 0.05 mV)\n",
    "        Valor 2: muestra hipertrofia ventricular izquierda probable o definitiva según los criterios de Estes  \n",
    "8. N° 32 (thalach)  frecuencia cardíaca máxima lograda\n",
    "9. N° 38 (exang) angina inducida por el ejercicio (1 = sí; 0 = no)\n",
    "10. N° 40 (oldpeak) depresión del ST inducida por el ejercicio en relación con el reposo\n",
    "11. N° 41 (pendiente) la pendiente del segmento ST de ejercicio máximo\n",
    "        Valor 1: pendiente ascendente\n",
    "        Valor 2: plano\n",
    "        Valor 3: downsloping\n",
    "12. N° 44 (ca) número de vasos principales (0-3) coloreados por fluoroscopia\n",
    "13. N° 51 (thal) 3 = normal; 6 = defecto fijo; 7 = defecto reversible\n",
    "14. N° 58 (num) (el atributo predicho) diagnóstico de enfermedad cardíaca (estado angiográfico de la enfermedad)\n",
    "        - Valor 0: <50% de diámetro de estrechamiento\n",
    "        - Valor 1:> 50% de diámetro de estrechamiento"
   ]
  },
  {
   "cell_type": "markdown",
   "metadata": {},
   "source": [
    "### Eliminacion de valores Perdidos (Missing Values)\n",
    "\n",
    "En la base de datos algunos valores están perdidos, se pueden identificar por el valor “-9.0”. por lo que se deben limpiar."
   ]
  },
  {
   "cell_type": "code",
   "execution_count": 5,
   "metadata": {},
   "outputs": [
    {
     "name": "stdout",
     "output_type": "stream",
     "text": [
      "Dim de la base de datos original: (303, 14)\n",
      "\n",
      "Hay 2 valores perdidos en la variable de salida. :(\n",
      "\n",
      "Dim de la base de datos sin las muestras con variable de salida perdido (301, 14)\n",
      "\n",
      "Procesando imputación de valores perdidos en las características . . .\n",
      "\n",
      "Imputación finalizada.\n",
      "\n",
      "No hay valores perdidos en la base de datos. Ahora se puede procesar. La base de datos está en la variable DataBase\n"
     ]
    }
   ],
   "source": [
    "import numpy as np\n",
    "\n",
    "#cargamos la bd de entrenamiento\n",
    "db = np.loadtxt('cleveland.txt',delimiter=',')  # El delimitador es \",\"\n",
    "print( \"Dim de la base de datos original: \" + str(np.shape(db)))\n",
    "db = db.reshape(303,14)\n",
    "DataBase = db\n",
    "#La base d edatos processed.cleveland tiene valores perdidos, vamos a quitar todos esos registros de la base de datos\n",
    "#Están marcados como -9.0. Donde haya un valor -9.0 eliminaremos el registro.\n",
    "j = 0\n",
    "for i in range(0,np.size(db,0)):\n",
    "    if -9.0 == db[i,12]:\n",
    "        j+=1\n",
    "        DataBase = np.delete(DataBase,i,0)\n",
    "    \n",
    "print (\"\\nHay \" + str(j) + \" valores perdidos en la variable de salida. :(\")\n",
    "\n",
    "print (\"\\nDim de la base de datos sin las muestras con variable de salida perdido \"+ str(np.shape(DataBase)))\n",
    "\n",
    "#Ya hemos eliminado los registros con valor de la variable de salida perdido.\n",
    "\n",
    "#Ahora vamos a imputar los valores perdidos en cada una de las características\n",
    "print (\"\\nProcesando imputación de valores perdidos en las características . . .\\n\")\n",
    "\n",
    "#data = open(\"AirQuality_cleaned.data\", \"w\")\n",
    "\n",
    "for k in range(0,np.size(DataBase,0)):\n",
    "    for w in range(0,13):\n",
    "        if -200 == DataBase[k,w]:\n",
    "            DataBase[k,w] = round(np.mean(DataBase[:,w]))\n",
    "        \n",
    "    #data.write(str(DataBase[k,:]))\n",
    "\n",
    "#data.close()\n",
    "print (\"Imputación finalizada.\\n\")\n",
    "\n",
    "hay_missed_values = False\n",
    "for i in range(0,np.size(DataBase,0)):\n",
    "    if -200 in DataBase[i,:]:\n",
    "        hay_missed_values = True\n",
    "if(hay_missed_values):\n",
    "    print (\"Hay valores perdidos\")\n",
    "else:\n",
    "    print (\"No hay valores perdidos en la base de datos. Ahora se puede procesar. La base de datos está en la variable DataBase\")"
   ]
  },
  {
   "cell_type": "code",
   "execution_count": null,
   "metadata": {},
   "outputs": [],
   "source": []
  }
 ],
 "metadata": {
  "kernelspec": {
   "display_name": "Python 3",
   "language": "python",
   "name": "python3"
  },
  "language_info": {
   "codemirror_mode": {
    "name": "ipython",
    "version": 3
   },
   "file_extension": ".py",
   "mimetype": "text/x-python",
   "name": "python",
   "nbconvert_exporter": "python",
   "pygments_lexer": "ipython3",
   "version": "3.5.2"
  }
 },
 "nbformat": 4,
 "nbformat_minor": 2
}
