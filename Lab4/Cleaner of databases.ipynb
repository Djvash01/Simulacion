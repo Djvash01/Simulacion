{
 "cells": [
  {
   "cell_type": "code",
   "execution_count": 26,
   "metadata": {},
   "outputs": [
    {
     "name": "stdout",
     "output_type": "stream",
     "text": [
      "Dim de la base de datos original: (9357L, 13L)\n",
      "\n",
      "Hay 366 valores perdidos en la variable de salida. :(\n",
      "\n",
      "Dim de la base de datos sin las muestras con variable de salida perdido (8991L, 13L)\n",
      "\n",
      "Procesando imputación de valores perdidos en las características . . .\n",
      "\n",
      "Imputación finalizada.\n",
      "\n",
      "No hay valores perdidos en la base de datos. Ahora se puede procesar. La base de datos está en la variable DataBase\n"
     ]
    }
   ],
   "source": [
    "import numpy as np\n",
    "\n",
    "#cargamos la bd de entrenamiento\n",
    "db = np.loadtxt('AirQuality.data',delimiter='\\t')  # Assuming tab-delimiter\n",
    "print \"Dim de la base de datos original: \" + str(np.shape(db))\n",
    "db = db.reshape(9357,13)\n",
    "DataBase = db\n",
    "#La base d edatos AirQuality tiene muchos valores perdidos, vamos a quitar todos esos registros de la base de datos\n",
    "#Están marcados como -200. Donde haya un valor -200 eliminaremos el registro.\n",
    "j = 0\n",
    "for i in range(0,np.size(db,0)):\n",
    "    if -200 == db[i,12]:\n",
    "        #print i\n",
    "        j+=1\n",
    "        DataBase = np.delete(DataBase,i,0)\n",
    "    \n",
    "print \"\\nHay \" + str(j) + \" valores perdidos en la variable de salida. :(\"\n",
    "\n",
    "print \"\\nDim de la base de datos sin las muestras con variable de salida perdido \"+ str(np.shape(DataBase))\n",
    "\n",
    "#Ya hemos eliminado los registros con valor de la variable de salida perdido.\n",
    "\n",
    "#Ahora vamos a imputar los valores perdidos en cada una de las características\n",
    "print \"\\nProcesando imputación de valores perdidos en las características . . .\\n\"\n",
    "\n",
    "#data = open(\"AirQuality_cleaned.data\", \"w\")\n",
    "\n",
    "for k in range(0,np.size(DataBase,0)):\n",
    "    for w in range(0,13):\n",
    "        if -200 == DataBase[k,w]:\n",
    "            DataBase[k,w] = round(np.mean(DataBase[:,w]))\n",
    "        \n",
    "    #data.write(str(DataBase[k,:]))\n",
    "\n",
    "#data.close()\n",
    "print \"Imputación finalizada.\\n\"\n",
    "\n",
    "hay_missed_values = False\n",
    "for i in range(0,np.size(DataBase,0)):\n",
    "    if -200 in DataBase[i,:]:\n",
    "        hay_missed_values = True\n",
    "if(hay_missed_values):\n",
    "    print \"Hay valores perdidos\"\n",
    "else:\n",
    "    print \"No hay valores perdidos en la base de datos. Ahora se puede procesar. La base de datos está en la variable DataBase\""
   ]
  }
 ],
 "metadata": {
  "kernelspec": {
   "display_name": "Python 3",
   "language": "python",
   "name": "python3"
  },
  "language_info": {
   "codemirror_mode": {
    "name": "ipython",
    "version": 3
   },
   "file_extension": ".py",
   "mimetype": "text/x-python",
   "name": "python",
   "nbconvert_exporter": "python",
   "pygments_lexer": "ipython3",
   "version": "3.5.2"
  }
 },
 "nbformat": 4,
 "nbformat_minor": 2
}
