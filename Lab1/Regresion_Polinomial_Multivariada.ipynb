{
 "cells": [
  {
   "cell_type": "code",
   "execution_count": 29,
   "metadata": {},
   "outputs": [
    {
     "name": "stdout",
     "output_type": "stream",
     "text": [
      "[[ -6.95907282]\n",
      " [ -8.62143208]\n",
      " [  5.45756784]\n",
      " [ -7.90622413]\n",
      " [  5.93704385]\n",
      " [ 18.21071817]\n",
      " [-17.69083511]\n",
      " [ -1.73016185]\n",
      " [ 32.51842724]\n",
      " [ 34.62928278]]\n"
     ]
    }
   ],
   "source": [
    "import numpy as np\n",
    "from sklearn import datasets\n",
    "iris = datasets.load_iris()\n",
    "X, y = iris.data, iris.target\n",
    "\n",
    "d=20 #numero de variables de entrada\n",
    "M=2 #grado del polinomio\n",
    "k=3 #(d*(M+1)) # K es la cantida de parametros (w) a encontrar, (M+1) es la cantidad de coeficientes\n",
    "\n",
    "w=np.linspace(1,10,6).reshape(6, 1)\n",
    "X = np.random.randn(10,6)\n",
    "result=np.dot(X,w)\n",
    "\n",
    "print (result)"
   ]
  },
  {
   "cell_type": "markdown",
   "metadata": {},
   "source": []
  }
 ],
 "metadata": {
  "kernelspec": {
   "display_name": "Python 3",
   "language": "python",
   "name": "python3"
  },
  "language_info": {
   "codemirror_mode": {
    "name": "ipython",
    "version": 3
   },
   "file_extension": ".py",
   "mimetype": "text/x-python",
   "name": "python",
   "nbconvert_exporter": "python",
   "pygments_lexer": "ipython3",
   "version": "3.5.2"
  }
 },
 "nbformat": 4,
 "nbformat_minor": 2
}
