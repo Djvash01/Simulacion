{
 "cells": [
  {
   "cell_type": "code",
   "execution_count": 2,
   "metadata": {},
   "outputs": [
    {
     "data": {
      "text/plain": [
       "<matplotlib.figure.Figure at 0x4dec7f0>"
      ]
     },
     "metadata": {},
     "output_type": "display_data"
    },
    {
     "data": {
      "text/plain": [
       "array([0.00669285, 0.00739896, 0.00817894, 0.00904041, 0.00999169,\n",
       "       0.01104196, 0.01220126, 0.01348063, 0.01489212, 0.01644893,\n",
       "       0.01816549, 0.02005754, 0.0221422 , 0.02443814, 0.02696557,\n",
       "       0.02974643, 0.03280439, 0.036165  , 0.0398557 , 0.04390588,\n",
       "       0.04834692, 0.05321217, 0.0585369 , 0.06435824, 0.07071501,\n",
       "       0.07764755, 0.0851974 , 0.093407  , 0.1023192 , 0.11197671,\n",
       "       0.12242144, 0.13369374, 0.14583148, 0.1588691 , 0.17283646,\n",
       "       0.18775769, 0.20364993, 0.22052213, 0.23837374, 0.25719365,\n",
       "       0.2769591 , 0.29763488, 0.31917283, 0.34151151, 0.36457644,\n",
       "       0.38828059, 0.41252537, 0.43720205, 0.46219351, 0.48737642,\n",
       "       0.51262358, 0.53780649, 0.56279795, 0.58747463, 0.61171941,\n",
       "       0.63542356, 0.65848849, 0.68082717, 0.70236512, 0.7230409 ,\n",
       "       0.74280635, 0.76162626, 0.77947787, 0.79635007, 0.81224231,\n",
       "       0.82716354, 0.8411309 , 0.85416852, 0.86630626, 0.87757856,\n",
       "       0.88802329, 0.8976808 , 0.906593  , 0.9148026 , 0.92235245,\n",
       "       0.92928499, 0.93564176, 0.9414631 , 0.94678783, 0.95165308,\n",
       "       0.95609412, 0.9601443 , 0.963835  , 0.96719561, 0.97025357,\n",
       "       0.97303443, 0.97556186, 0.9778578 , 0.97994246, 0.98183451,\n",
       "       0.98355107, 0.98510788, 0.98651937, 0.98779874, 0.98895804,\n",
       "       0.99000831, 0.99095959, 0.99182106, 0.99260104, 0.99330715])"
      ]
     },
     "execution_count": 2,
     "metadata": {},
     "output_type": "execute_result"
    }
   ],
   "source": [
    "import numpy as np\n",
    "import matplotlib.pyplot as plt\n",
    "from __future__ import division\n",
    "from sklearn import datasets\n",
    "iris = datasets.load_iris()\n",
    "X, y = iris.data, iris.target\n",
    "\n",
    "#Sigmoidal\n",
    "def sigmoidal(z):\n",
    "    \n",
    "    #Complete la siguiente línea con el código para calcular la salida de la función sigmoidal\n",
    "    s = 1/(1+np.exp(-z)) \n",
    "    #Complete el código para realizar la gráfica de la función aquí\n",
    "    plt.plot(z,s)\n",
    "    plt.ylabel('y = sigmoidal(x)')\n",
    "    plt.xlabel('valores de  x  entre  −5 y  5')\n",
    "    plt.title(u'Funcion Sigmoidal\\n')\n",
    "    plt.show()\n",
    "    \n",
    "    return s\n",
    "\n",
    "x = np.linspace(-5,5,100)\n",
    "sigmoidal(x)\n",
    "\n",
    "\n"
   ]
  },
  {
   "cell_type": "code",
   "execution_count": 3,
   "metadata": {},
   "outputs": [
    {
     "name": "stdout",
     "output_type": "stream",
     "text": [
      "[[1.]\n",
      " [1.]\n",
      " [1.]\n",
      " [1.]\n",
      " [1.]\n",
      " [1.]\n",
      " [1.]\n",
      " [1.]\n",
      " [1.]\n",
      " [1.]\n",
      " [1.]\n",
      " [1.]\n",
      " [1.]\n",
      " [1.]\n",
      " [1.]\n",
      " [1.]\n",
      " [1.]\n",
      " [1.]\n",
      " [1.]\n",
      " [1.]]\n"
     ]
    }
   ],
   "source": [
    "d=20 #numero de variables de entrada\n",
    "M=2 #grado del polinomio\n",
    "k=3 #(d*(M+1)) # K es la cantida de parametros (w) a encontrar, (M+1) es la cantidad de coeficientes\n",
    "\n",
    "w=np.linspace(1,10,6).reshape(6, 1)\n",
    "X = np.random.randn(10,6)\n",
    "result=np.dot(X,w)\n",
    "\n",
    "Want = np.random.randn(d)\n",
    "Want = np.ones(d)#np.random.randn(d)\n",
    "Want = Want.reshape(np.size(Want),1)\n",
    "print(Want)\n",
    "    "
   ]
  },
  {
   "cell_type": "code",
   "execution_count": null,
   "metadata": {},
   "outputs": [],
   "source": []
  }
 ],
 "metadata": {
  "kernelspec": {
   "display_name": "Python 3",
   "language": "python",
   "name": "python3"
  },
  "language_info": {
   "codemirror_mode": {
    "name": "ipython",
    "version": 3
   },
   "file_extension": ".py",
   "mimetype": "text/x-python",
   "name": "python",
   "nbconvert_exporter": "python",
   "pygments_lexer": "ipython3",
   "version": "3.6.4"
  }
 },
 "nbformat": 4,
 "nbformat_minor": 2
}
