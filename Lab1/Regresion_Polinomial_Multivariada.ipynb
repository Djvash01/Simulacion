{
 "cells": [
  {
   "cell_type": "code",
   "execution_count": null,
   "metadata": {},
   "outputs": [],
   "source": [
    "import numpy as np\n",
    "import matplotlib.pyplot as plt\n",
    "from __future__ import division\n",
    "from sklearn import datasets\n",
    "iris = datasets.load_iris()\n",
    "X, y = iris.data, iris.target\n",
    "\n",
    "#Sigmoidal\n",
    "def sigmoidal(z):\n",
    "    \n",
    "    #Complete la siguiente línea con el código para calcular la salida de la función sigmoidal\n",
    "    s = 1/(1+np.exp(-z)) \n",
    "    #Complete el código para realizar la gráfica de la función aquí\n",
    "    plt.plot(z,s)\n",
    "    plt.ylabel('y = sigmoidal(x)')\n",
    "    plt.xlabel('valores de  x  entre  −5 y  5')\n",
    "    plt.title(u'Funcion Sigmoidal\\n')\n",
    "    plt.show()\n",
    "    \n",
    "    return s\n",
    "\n",
    "x = np.linspace(-5,5,100)\n",
    "sigmoidal(x)\n",
    "\n",
    "\n"
   ]
  },
  {
   "cell_type": "code",
   "execution_count": 3,
   "metadata": {},
   "outputs": [
    {
     "name": "stdout",
     "output_type": "stream",
     "text": [
      "[[-1.27083224]\n",
      " [ 0.72114436]\n",
      " [ 0.35218173]\n",
      " [ 0.97354831]\n",
      " [-0.61378528]\n",
      " [-0.90989838]\n",
      " [-0.07562413]\n",
      " [-0.21722053]\n",
      " [ 1.17343837]\n",
      " [-0.77848706]\n",
      " [ 0.08298116]\n",
      " [-0.27472391]\n",
      " [ 0.42151718]\n",
      " [ 2.02589613]\n",
      " [-1.07701923]\n",
      " [ 1.6582282 ]\n",
      " [ 0.60710156]\n",
      " [ 1.09478817]\n",
      " [-1.3468116 ]\n",
      " [-1.20577649]]\n"
     ]
    }
   ],
   "source": [
    "d=20 #numero de variables de entrada\n",
    "M=2 #grado del polinomio\n",
    "k=3 #(d*(M+1)) # K es la cantida de parametros (w) a encontrar, (M+1) es la cantidad de coeficientes\n",
    "\n",
    "w=np.linspace(1,10,6).reshape(6, 1)\n",
    "X = np.random.randn(10,6)\n",
    "result=np.dot(X,w)\n",
    "\n",
    "Want = np.random.randn(d)\n",
    "Want = Want.reshape(np.size(Want),1)\n",
    "print(Want)\n",
    "    "
   ]
  },
  {
   "cell_type": "code",
   "execution_count": null,
   "metadata": {},
   "outputs": [],
   "source": []
  }
 ],
 "metadata": {
  "kernelspec": {
   "display_name": "Python 3",
   "language": "python",
   "name": "python3"
  },
  "language_info": {
   "codemirror_mode": {
    "name": "ipython",
    "version": 3
   },
   "file_extension": ".py",
   "mimetype": "text/x-python",
   "name": "python",
   "nbconvert_exporter": "python",
   "pygments_lexer": "ipython3",
   "version": "3.6.4"
  }
 },
 "nbformat": 4,
 "nbformat_minor": 2
}
