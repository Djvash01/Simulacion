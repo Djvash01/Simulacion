{
 "cells": [
  {
   "cell_type": "code",
   "execution_count": 18,
   "metadata": {},
   "outputs": [
    {
     "name": "stdout",
     "output_type": "stream",
     "text": [
      "[[7 6 8]\n",
      " [2 7 8]\n",
      " [0 8 1]\n",
      " [3 5 9]\n",
      " [8 4 3]\n",
      " [8 8 7]\n",
      " [3 7 3]\n",
      " [9 2 3]\n",
      " [5 6 1]\n",
      " [0 5 0]]\n"
     ]
    }
   ],
   "source": [
    "import numpy as np\n",
    "\n",
    "\n",
    "d=2 #numero de variables de entrada\n",
    "M=2 #grado del polinomio\n",
    "k=(d*(M+1)) # K es la cantida de parametros (w) a encontrar, (M+1) es la cantidad de coeficientes\n",
    "\n",
    "\n",
    "X = np.random.randint(0,10,(10,d+1))\n",
    "W = np.ones(k).reshape(k, 1)\n",
    "print (x)"
   ]
  },
  {
   "cell_type": "code",
   "execution_count": null,
   "metadata": {},
   "outputs": [],
   "source": []
  }
 ],
 "metadata": {
  "kernelspec": {
   "display_name": "Python 3",
   "language": "python",
   "name": "python3"
  },
  "language_info": {
   "codemirror_mode": {
    "name": "ipython",
    "version": 3
   },
   "file_extension": ".py",
   "mimetype": "text/x-python",
   "name": "python",
   "nbconvert_exporter": "python",
   "pygments_lexer": "ipython3",
   "version": "3.5.2"
  }
 },
 "nbformat": 4,
 "nbformat_minor": 2
}
