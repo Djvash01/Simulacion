{
 "cells": [
  {
   "cell_type": "markdown",
   "metadata": {},
   "source": [
    "# Laboratorio 1 - Parte 2\n",
    "\n",
    "### Regresión Regresión logística y FDG's\n",
    "\n",
    "### Universidad de Antioquia\n",
    "\n",
    "### Facultad de Ingeniería\n",
    "\n",
    "### Ingeniería de Sistemas\n",
    "\n",
    "### Ude@ - 2018-I\n",
    "\n",
    "#### Profesor: Antonio Tamayo Herrera\n"
   ]
  },
  {
   "cell_type": "markdown",
   "metadata": {},
   "source": [
    "### Estudiantes:\n",
    "\n",
    "Rodrigo Antonio Porras Martinez\n",
    "CC: 1039459720.\n",
    "\n",
    "David De Jesus Yepes Isaza\n",
    "CC: 1020455542"
   ]
  },
  {
   "cell_type": "markdown",
   "metadata": {},
   "source": [
    "## Guía del laboratorio\n",
    "\n",
    "En este archivo va a encontrar tanto celdas de código cómo celdas de texto con las instrucciones para desarrollar el laboratorio.\n",
    "\n",
    "Lea atentamente las instrucciones entregadas en las celdas de texto correspondientes y proceda con la solución de las preguntas planteadas.\n",
    "\n",
    "Nota: no olvide ir ejecutando las celdas de código de arriba hacia abajo para que no tenga errores de importación de librerías o por falta de definición de variables."
   ]
  },
  {
   "cell_type": "code",
   "execution_count": 229,
   "metadata": {},
   "outputs": [],
   "source": [
    "import numpy as np\n",
    "import matplotlib.pyplot as plt\n",
    "from __future__ import division"
   ]
  },
  {
   "cell_type": "markdown",
   "metadata": {},
   "source": [
    "## Ejercicio 1\n",
    "\n",
    "En este laboratorio se va a realizar un procedimiento análogo al del laboratorio anterior, pero con el modelo de regresión logística que sirve para resolver problemas de clasificación (en principio biclase).\n",
    "\n",
    "Analice los siguientes métodos a la luz de la teoría vista para el modelo de regresión logística. Una vez comprenda su funcionamiento proceda a completar el código del método de gradiente descendente con la regla de actualización de los parámetros\n",
    "\n",
    "$$w_j(iter) = w_j(iter-1) - \\eta \\frac{\\partial E(w)}{\\partial w_j}$$ \n",
    "\n",
    "para el problema de clasificación. Tenga presente que si ya implementó la regla de actualización de parámetros para el modelo de regresión polinomial múltiple, este punto es trivial, ya que solo tiene que incluir la función sigmoidal tal como lo vimos en la teoría.\n",
    "\n",
    "Además se pide graficar el error de clasificación durante las iteraciones del algorítmo. La gráfica debe llevar título y los correspondientes nombres de los ejes.\n",
    "\n",
    "Nota: observe que el método logistic_regression ya hace el llamado a la función sigmoidal"
   ]
  },
  {
   "cell_type": "code",
   "execution_count": 231,
   "metadata": {},
   "outputs": [],
   "source": [
    "#Sigmoidal\n",
    "def sigmoidal(z):\n",
    "    \n",
    "    #Complete la siguiente línea con el código para calcular la salida de la función sigmoidal\n",
    "    s = 1/(1+np.exp(-z))\n",
    "    \n",
    "    #Complete el código para realizar la gráfica de la función aquí\n",
    "    \n",
    "    return s\n",
    "\n",
    "\n",
    "#Modelo Regresión logística\n",
    "def logistic_regression(X, W):\n",
    "    Yest = np.dot(X,W)  #con np.dot se realiza el producto matricial. Aquí X (extendida) tiene dim [Nxd] y W es dim [dx1]\n",
    "    Y_lest = sigmoidal(Yest)\n",
    "    \n",
    "    #Se llevan los valores a 1 o 0 para los que está definido el modelo de regresión logística\n",
    "    pos = 0\n",
    "    for tag in Y_lest:\n",
    "        \n",
    "        if tag > 0.5:\n",
    "            Y_lest[pos] = 1\n",
    "        elif tag < 0.5:\n",
    "            Y_lest[pos] = 0\n",
    "        \n",
    "        pos += 1\n",
    "    \n",
    "    return Y_lest    #Esta variable contiene la salida de sigm(f(X,W))\n",
    "\n",
    "\n",
    "#Potencia de polinomio (En es laboratorio solo trabajaremos el caso lineal (grado 1), pero se pueden probar otras fronteras)\n",
    "def potenciaPolinomio(X,grado):\n",
    "    X2 = X\n",
    "    \n",
    "    if grado != 1:\n",
    "        for i in range(2,grado+1):\n",
    "            Xadd = X**i\n",
    "            X2 = np.concatenate((X2, Xadd), axis=1)\n",
    "    \n",
    "    return X2\n",
    "\n",
    "\n",
    "#Para calcular el error del modelo de regresión logística\n",
    "def error_logistic(Y_lest, Y):\n",
    "    error = 0\n",
    "    for ye, y in zip(Y_lest, Y):\n",
    "        if ye != y:\n",
    "            error += 1\n",
    "    \n",
    "    error = error/np.size(Y)\n",
    "    \n",
    "    #print \"La eficiencia en esta iteración fue: \"+str(1-error)+'\\n'\n",
    "    \n",
    "    return error\n",
    "\n",
    "#Gradiente descendente para regresión logística\n",
    "def gradiente_descendente_logistic(X,Y,grado,eta):\n",
    "    \n",
    "    X_original = X\n",
    "    \n",
    "    #Se modifica la matriz de datos original de acuerdo al grado del polinomio ingresado para el modelo\n",
    "    X = potenciaPolinomio(X,grado)\n",
    "     \n",
    "    \n",
    "    #X es la matriz de datos extendida. W es el vector de parámetros del modelo\n",
    "    #Extendemos la matriz\n",
    "    unos = np.array([np.ones(np.size(X,0))])\n",
    "    #Concatenar el vector de unos con la matriz X\n",
    "    X = np.concatenate((unos.T, X), axis=1)\n",
    "    X = X.reshape(np.size(X,0),np.size(X,1))\n",
    "    \n",
    "    Y = Y.reshape(np.size(Y), 1)\n",
    "    \n",
    "    #Tomamos el número de variables del problema\n",
    "    d = np.size(X,1)\n",
    "\n",
    "    #Tomamos el número de muestras de la base de datos\n",
    "    N = np.size(X,0)\n",
    "    \n",
    "    #Inicializamos el vector de parámetros aleatoriamente\n",
    "    #Want = np.random.randn(d)\n",
    "    Want = np.zeros(d)\n",
    "    Want = Want.reshape(np.size(Want),1)\n",
    "\n",
    "    eta = eta\n",
    "    \n",
    "    iteraciones = 100\n",
    "    errores = np.zeros(iteraciones)\n",
    "    \n",
    "    for iter in range(iteraciones):\n",
    "\n",
    "        Y_estimado = logistic_regression(X,Want)\n",
    "        #Error en clasificación\n",
    "        error = error_logistic(Y_estimado,Y)\n",
    "        errores[iter] = error\n",
    "\n",
    "        #Aquí debe completar el código con la regla de actualización de los parámetros W para regresión\n",
    "        #logística. Tenga en cuenta los nombres de las variables ya creadas: Want, X, Y\n",
    "    \n",
    "    \n",
    "    #Aquí debe completar el código para realizar la gráfica del error de clasificación vs. iteraciones\n",
    "    \n",
    "    \n",
    "    \n",
    "    #Aquí debe completar el código para realizar la gráfica de la frontera encontrada para el menor error\n",
    "    #Tenga en cuenta el condicional para que no grafique cosas erroneas si usa grados mayores que 1\n",
    "    #if grado == 1:\n",
    "        #plt.scatter(#complete con los argumentos);\n",
    "        \n",
    "        #plt.show()\n",
    "\n",
    "    print 'Vector de parámetros del modelo:\\n'\n",
    "    print W\n",
    "    print '\\nError de clasificación = ' + str(errores[-1])\n",
    "    \n",
    "    plt.show()\n",
    "    \n",
    "    print (\"Errores: \\n\"+str(errores))\n",
    "    print (\"Y estimado: \"+str(Y_estimado))\n",
    "    print (\"Y teorico : \"+str(Y))\n",
    "    \n",
    "    return W"
   ]
  },
  {
   "cell_type": "markdown",
   "metadata": {},
   "source": [
    "## Ejercicio 2\n",
    "\n",
    "A continuación se leen los datos de un problema de clasificación. Las variables o caracterísicas son guardadas en la variable X2 y la variable de salida es guardada en la variable y2. Grafique los datos usando la funci&oacute;n scatter de matplotlib y responda a las siguientes preguntas:"
   ]
  },
  {
   "cell_type": "code",
   "execution_count": 232,
   "metadata": {},
   "outputs": [],
   "source": [
    "#cargamos la bd iris desde el dataset de sklearn\n",
    "from sklearn import datasets\n",
    "iris = datasets.load_iris()\n",
    "\n",
    "#Esta es la base de datos Iris del UCI Machine Learning Repository \n",
    "#https://archive.ics.uci.edu/ml/datasets/iris\n",
    "\n",
    "X, y = iris.data, iris.target\n",
    "X2 = X[:100][:,0:2]\n",
    "y2 = y[:100]\n",
    "\n"
   ]
  },
  {
   "cell_type": "markdown",
   "metadata": {},
   "source": [
    "2.1 Cu&aacute;ntas clases tiene el problema?\n",
    "\n",
    "2.2 Cu&aacute;ntas caracter&iacute;sticas tiene el problema?\n",
    "\n",
    "2.3 Cu&aacute;ntas muestras tiene el problema?\n",
    "\n",
    "2.4 El problema es linealmente separable?"
   ]
  },
  {
   "cell_type": "markdown",
   "metadata": {},
   "source": [
    "## Ejercicio 3\n",
    "\n",
    "Complete el código de la siguiente celda llamando el método gradiente_descendente_logistic y pasándole los parámetros correspondientes, use grado $1$ y $\\eta=1$. Debe obtener como salída el vector de parámetros W estimado y el valor de error de clasificación. (como criterio de verificación, tenga en cuenta que para $\\eta = 1$ y $grado = 1$, el error de clasificación debe ser del $1\\%$."
   ]
  },
  {
   "cell_type": "code",
   "execution_count": 233,
   "metadata": {},
   "outputs": [],
   "source": [
    "#Completa la siguiente línea con el llamado al método gradiente_descendente_logistic con sus respectivos argumentos\n",
    "#w = gradiente_descendente_logistic()\n"
   ]
  },
  {
   "cell_type": "markdown",
   "metadata": {},
   "source": [
    "## Ejercicio 3\n",
    "\n",
    "3.1 Escriba el modelo $f(\\textbf{x},\\textbf{w})$, una vez haya estimado el vector de par&aacute;metros del mismo.\n",
    "\n",
    "3.2 Qué valor de error de clasificación obtuvo?\n",
    "\n",
    "3.3 Basado en el valor del error obtenido, cu&aacute;ntas muestras clasifica mal el modelo?\n",
    "\n",
    "3.4 Grafique las muestras y la frontera de decisi&oacute;n alcanzada?\n",
    "\n",
    "3.5 Alguna muestra cae sobre la frontera de decisi&oacute;n? En caso afirmativo, dicha muestra es bien o mal clasificada y por qu&eacute;?"
   ]
  },
  {
   "cell_type": "markdown",
   "metadata": {
    "collapsed": true
   },
   "source": [
    "Responda aquí:\n",
    "    \n",
    "3.1 R:/\n",
    "\n",
    "3.2 R:/\n",
    "\n",
    "3.3 R:/\n",
    "\n",
    "3.4 R:/\n",
    "\n",
    "3.5 R:/"
   ]
  },
  {
   "cell_type": "code",
   "execution_count": null,
   "metadata": {},
   "outputs": [],
   "source": []
  }
 ],
 "metadata": {
  "kernelspec": {
   "display_name": "Python 3",
   "language": "python",
   "name": "python3"
  },
  "language_info": {
   "codemirror_mode": {
    "name": "ipython",
    "version": 3
   },
   "file_extension": ".py",
   "mimetype": "text/x-python",
   "name": "python",
   "nbconvert_exporter": "python",
   "pygments_lexer": "ipython3",
   "version": "3.6.4"
  }
 },
 "nbformat": 4,
 "nbformat_minor": 2
}
