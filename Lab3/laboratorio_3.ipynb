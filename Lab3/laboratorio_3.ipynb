{
 "cells": [
  {
   "cell_type": "markdown",
   "metadata": {},
   "source": [
    "# Laboratorio 3\n",
    "\n",
    "### K-means, GMMs, Árboles y Random Forests\n",
    "\n",
    "### Universidad de Antioquia\n",
    "\n",
    "### Facultad de Ingeniería\n",
    "\n",
    "### Ingeniería de Sistemas\n",
    "\n",
    "### Ude@ - 2018-I\n",
    "\n",
    "#### Profesor: Antonio Tamayo Herrera\n",
    "#### Estudiantes: \n",
    "DAVID DE JESUS YEPES ISAZA.\n",
    "\n",
    "RODRIGO ANTONIO PORRAS MARTINEZ"
   ]
  },
  {
   "cell_type": "markdown",
   "metadata": {},
   "source": [
    "## Guía del laboratorio\n",
    "\n",
    "En esta archivo va a encontrar tanto celdas de código cómo celdas de texto con las instrucciones para desarrollar el laboratorio.\n",
    "\n",
    "Lea atentamente las instrucciones entregadas en las celdas de texto correspondientes y proceda con la solución de las preguntas planteadas.\n",
    "\n",
    "Nota: no olvide ir ejecutando las celdas de código de arriba hacia abajo para que no tenga errores de importación de librerías o por falta de definición de variables."
   ]
  },
  {
   "cell_type": "markdown",
   "metadata": {},
   "source": [
    "## Ejercicio 1\n",
    "\n",
    "En la siguiente celda, complete el código donde le sea indicado. Debe consultar todo lo relacionado al método KMeans de la librería scikit-learn. Consultar aquí: http://scikit-learn.org/stable/modules/generated/sklearn.cluster.KMeans.html"
   ]
  },
  {
   "cell_type": "code",
   "execution_count": 3,
   "metadata": {},
   "outputs": [
    {
     "ename": "SyntaxError",
     "evalue": "invalid syntax (<ipython-input-3-43e096a719da>, line 24)",
     "output_type": "error",
     "traceback": [
      "\u001b[0;36m  File \u001b[0;32m\"<ipython-input-3-43e096a719da>\"\u001b[0;36m, line \u001b[0;32m24\u001b[0m\n\u001b[0;31m    kmeans =\u001b[0m\n\u001b[0m             ^\u001b[0m\n\u001b[0;31mSyntaxError\u001b[0m\u001b[0;31m:\u001b[0m invalid syntax\n"
     ]
    }
   ],
   "source": [
    "import numpy as np\n",
    "import matplotlib.pyplot as plt\n",
    "\n",
    "from sklearn.cluster import KMeans\n",
    "from sklearn import datasets\n",
    "\n",
    "iris = datasets.load_iris()\n",
    "X, y = iris.data, iris.target\n",
    "\n",
    "plt.scatter(X[:,2], X[:,3], c=y)\n",
    "plt.title(u'\\nDistribución real de las muestras BD IRIS en 2 dimensiones\\n')\n",
    "plt.xlabel('Variable 3 de la bd IRIS')\n",
    "plt.ylabel('Variable 4 de la bd IRIS')\n",
    "plt.show()\n",
    "\n",
    "print('\\n\\nDescubriendo las clases con el método kMeans\\n\\n')\n",
    "\n",
    "for k in range(1,6,1):\n",
    "    \n",
    "    print('Descubriendo ' + str(k) + ' clusters:\\n')\n",
    "    #Complete el código llamando al método KMeans usando inicialización de los centroides de manera aleatoria\n",
    "    #usando las muestras de entrenamiento, tal como lo explicamos en clase. Use el algorímo EM para el\n",
    "    #Entrenamiento\n",
    "    kmeans = \n",
    "    labels = kmeans.labels_\n",
    "    plt.scatter(X[:,2], X[:,3], c=labels.astype(np.float), edgecolor='k')\n",
    "    plt.show()\n",
    "    \n",
    "    "
   ]
  },
  {
   "cell_type": "markdown",
   "metadata": {},
   "source": [
    "1.1 Seg&uacute;n los resultados encontrados y la base de datos usada, cu&aacute;l es el n&uacute;mero de clusters &oacute;ptimo para este problema? Argumente por qu&eacute;.\n",
    "\n",
    "Responda aquí:"
   ]
  },
  {
   "cell_type": "markdown",
   "metadata": {},
   "source": [
    "## Ejercicio 2\n",
    "\n",
    "En la siguiente celda, complete el código donde le sea indicado. Debe consultar todo lo relacionado al modelo GMMs de la librería scikit-learn. Consultar aquí: http://scikit-learn.org/stable/modules/generated/sklearn.mixture.GaussianMixture.html#sklearn.mixture.GaussianMixture"
   ]
  },
  {
   "cell_type": "code",
   "execution_count": 2,
   "metadata": {},
   "outputs": [
    {
     "ename": "SyntaxError",
     "evalue": "invalid syntax (<ipython-input-2-6971251f2caf>, line 26)",
     "output_type": "error",
     "traceback": [
      "\u001b[0;36m  File \u001b[0;32m\"<ipython-input-2-6971251f2caf>\"\u001b[0;36m, line \u001b[0;32m26\u001b[0m\n\u001b[0;31m    estimator =\u001b[0m\n\u001b[0m                ^\u001b[0m\n\u001b[0;31mSyntaxError\u001b[0m\u001b[0;31m:\u001b[0m invalid syntax\n"
     ]
    }
   ],
   "source": [
    "import matplotlib as mpl\n",
    "import matplotlib.pyplot as plt\n",
    "\n",
    "import numpy as np\n",
    "\n",
    "from sklearn import datasets\n",
    "from sklearn.mixture import GaussianMixture\n",
    "from sklearn.model_selection import StratifiedKFold\n",
    "\n",
    "iris = datasets.load_iris()\n",
    "\n",
    "#Partiendo la base de datos de entrenamiento en 75% para entrenar y 25% para validar\n",
    "skf = StratifiedKFold(n_splits=4)\n",
    "# Tomando solo el primer fold\n",
    "train_index, test_index = next(iter(skf.split(iris.data, iris.target)))\n",
    "\n",
    "\n",
    "X_train = iris.data[train_index]\n",
    "y_train = iris.target[train_index]\n",
    "X_test = iris.data[test_index]\n",
    "y_test = iris.target[test_index]\n",
    "\n",
    "n_classes = len(np.unique(y_train))\n",
    "#Complete el código aquí con la llamada al método GaussianMixture. Recuerde \n",
    "#que ya tiene el número de Gaussianas en n_classes\n",
    "estimator = \n",
    "\n",
    "#Con la base de datos se realiza una inicialización de las medias de cada Gaussiana de manera supervisada\n",
    "estimator.means_init = np.array([X_train[y_train == i].mean(axis=0)\n",
    "                                    for i in range(n_classes)])\n",
    "\n",
    "#Complete el codigo aqui entrenando (ajustando) el modelo con la base de datos de entrenamiento\n",
    "\n",
    "    \n",
    "print \"Eficiencia en la fase de entrenamiento:\"\n",
    "y_train_pred = estimator.predict(X_train)\n",
    "train_accuracy = np.mean(y_train_pred.ravel() == y_train.ravel()) * 100\n",
    "print train_accuracy\n",
    "\n",
    "print \"\\nEficiencia en la fase de validación:\"\n",
    "#Complete el código aquí prediciendo el la clase para las muestras de validación\n",
    "y_test_pred = \n",
    "test_accuracy = np.mean(y_test_pred.ravel() == y_test.ravel()) * 100\n",
    "print test_accuracy\n",
    "\n",
    "print \"\\n\"\n",
    "print class_error(y_test_pred, y_test)\n"
   ]
  },
  {
   "cell_type": "markdown",
   "metadata": {},
   "source": [
    "2.1 Ejecute el código de GMMs de la celda anterior usando una matriz de var-cov completa, esférica y diagonal. Qué observa en la eficiencia del modelo en cada uno de los tres casos? Cómo interpreta esos resultados?\n",
    "\n",
    "Responda aquí:\n",
    "\n",
    "\n",
    "2.2  Según la partición que se realizó a la base de datos para entrenamiento y validación, se puede afirmar que se está aplicando la metodología de validación correctamente? Responda sí o no y por qué.\n",
    "\n",
    "Responda aquí:\n"
   ]
  },
  {
   "cell_type": "markdown",
   "metadata": {},
   "source": [
    "## Ejercicio 3\n",
    "\n",
    "En la siguiente celda, complete el código donde le sea indicado. Debe consultar todo lo relacionado al modelo de árboles de decisión para clasificación de la librería scikit-learn. Consultar aquí: http://scikit-learn.org/stable/modules/tree.html#classification"
   ]
  },
  {
   "cell_type": "code",
   "execution_count": 3,
   "metadata": {},
   "outputs": [
    {
     "ename": "SyntaxError",
     "evalue": "invalid syntax (<ipython-input-3-810056aa43d6>, line 22)",
     "output_type": "error",
     "traceback": [
      "\u001b[0;36m  File \u001b[0;32m\"<ipython-input-3-810056aa43d6>\"\u001b[0;36m, line \u001b[0;32m22\u001b[0m\n\u001b[0;31m    y_pred =\u001b[0m\n\u001b[0m             ^\u001b[0m\n\u001b[0;31mSyntaxError\u001b[0m\u001b[0;31m:\u001b[0m invalid syntax\n"
     ]
    }
   ],
   "source": [
    "from __future__ import division\n",
    "from sklearn import tree\n",
    "from sklearn.metrics import confusion_matrix\n",
    "\n",
    "def class_error(y_est, y_real):\n",
    "    err = 0\n",
    "    for y_e, y_r in zip(y_est, y_real):\n",
    "        if y_e != y_r:\n",
    "            err += 1\n",
    "\n",
    "    return \"accuracy: \" + str(1-(err/np.size(y_est)))\n",
    "\n",
    "#Nota: con este modelo debe usar la misma base de datos IRIS que ya fue cargada para el modelo del ejercicio 2.\n",
    "\n",
    "#Complete el código aquí creando el modelo de árbol clasificador y entrenandolo unicamente con las muestras de entrenamiento\n",
    "#de la base de datos\n",
    "\n",
    "\n",
    "\n",
    "\n",
    "#Complete el código aquí prediciendo la clase para las muestras de validación (test) de la base de datos.\n",
    "y_pred = \n",
    "print (class_error(y_pred, y_test))\n",
    "\n",
    "\n",
    "# Compute confusion matrix\n",
    "cnf_matrix = confusion_matrix(y_test, y_pred)\n",
    "plt.imshow(cnf_matrix)\n",
    "plt.show()"
   ]
  },
  {
   "cell_type": "markdown",
   "metadata": {},
   "source": [
    "3.1 Seg&uacute;n la documentaci&oacute;n, cu&aacute;l medida de impureza que se usa?\n",
    "\n",
    "Responda aqu&iacute;:\n",
    "\n",
    "3.2 Seg&uacute;n la documentaci&oacute;n, se le permite al &aacute;rbol crecer a su m&aacute;xima profundidad? Argumente\n",
    "su respuesta relacionandola con el valor de la medida de impuraza usada y el valor alcanzado por la misma en los nodos terminales.\n",
    "\n",
    "Responda aqu&iacute;:"
   ]
  },
  {
   "cell_type": "markdown",
   "metadata": {},
   "source": [
    "## Ejercicio 4\n",
    "\n",
    "En la siguiente celda, complete el código donde le sea indicado. Debe consultar todo lo relacionado al modelo de árboles de decisión para regresión de la librería scikit-learn. Consultar aquí: http://scikit-learn.org/stable/modules/tree.html#regression"
   ]
  },
  {
   "cell_type": "code",
   "execution_count": 2,
   "metadata": {},
   "outputs": [
    {
     "ename": "SyntaxError",
     "evalue": "invalid syntax (<ipython-input-2-2787ba458448>, line 42)",
     "output_type": "error",
     "traceback": [
      "\u001b[0;36m  File \u001b[0;32m\"<ipython-input-2-2787ba458448>\"\u001b[0;36m, line \u001b[0;32m42\u001b[0m\n\u001b[0;31m    Y_est =\u001b[0m\n\u001b[0m            ^\u001b[0m\n\u001b[0;31mSyntaxError\u001b[0m\u001b[0;31m:\u001b[0m invalid syntax\n"
     ]
    }
   ],
   "source": [
    "from sklearn.tree import DecisionTreeRegressor\n",
    "from sklearn.preprocessing import normalize\n",
    "from sklearn.model_selection import KFold\n",
    "\n",
    "#Error cuadrático medio (para problemas de regresión)\n",
    "def ECM(Y_est,Y_real):\n",
    "    N = np.size(Y_real)\n",
    "    ecm = sum((Y_est - Y_real)**2)/N\n",
    "    return ecm \n",
    "\n",
    "#cargamos la bd que está en un archivo .data y ahora la podemos manejar de forma matricial\n",
    "db = np.loadtxt('DB/AirQuality.data',delimiter='\\t')  # Assuming tab-delimiter\n",
    "\n",
    "#Esta es la base de datos AirQuality del UCI Machine Learning Repository \n",
    "#https://archive.ics.uci.edu/ml/datasets/Air+Quality#\n",
    "\n",
    "X = db[:,0:12]\n",
    "Y = db[:,12]\n",
    "\n",
    "#Normalizamos los datos\n",
    "X = normalize(X, axis=0, norm='l1')\n",
    "\n",
    "Errores = np.zeros(10)\n",
    "j = 0\n",
    "#Aplicando Cross-validation con 10 folds\n",
    "\n",
    "kf = KFold(n_splits=10)\n",
    "\n",
    "for train_index, test_index in kf.split(X):\n",
    "    #print(\"TRAIN:\", train_index, \"TEST:\", test_index)\n",
    "    X_train, X_test = X[train_index], X[test_index]\n",
    "    y_train, y_test = Y[train_index], Y[test_index]  \n",
    "\n",
    "    \n",
    "    #Complete el código aquí creando el modelo de árbol para regresión y entrenando el modelo solo con las muestras\n",
    "    #de entrenamiento de la base de datos\n",
    "   \n",
    "\n",
    "\n",
    "    #Complete el código aquí prediciendo el valor para la variable de salida de las muestras de validación\n",
    "    #de la base de datos\n",
    "    Y_est = \n",
    "\n",
    "    Errores[j] = ECM(Y_est, y_test)\n",
    "    \n",
    "print \"accuracy: \"+str(1-np.mean(Errores))\n"
   ]
  },
  {
   "cell_type": "markdown",
   "metadata": {},
   "source": [
    "Revise el número de muestras que tiene la base de datos con la que se está trabajando el problema de regresión.\n",
    "\n",
    "4.1 Cuántas muestras tiene?\n",
    "\n",
    "Responda aquí:\n",
    "\n",
    "4.2 Cuántas iteraciones se est&aacute;n realizando seg&uacute;n la metodolog&iacute;a de validaci&oacute;n aplicada?\n",
    "\n",
    "Responda aquí:\n",
    "\n",
    "4.3 C&oacute;mo se llama la metodolog&iacute;a de validaci&oacute;n aplicada?\n",
    "\n",
    "Responda aquí:\n",
    "\n",
    "4.4 Con cuántas muestras se está entrenando el modelo en cada iteraci&oacute;n?\n",
    "\n",
    "Responda aquí:\n",
    "\n",
    "\n",
    "4.5 Con cuántas se está validando en cada iteraci&oacute;n?\n",
    "\n",
    "Responda aquí:\n",
    "\n",
    "\n",
    "Nota: deje constancia en la celda anterior del código que usó para responder las preguntas anteriores.\n",
    "\n",
    "4.6 Qué puede decir del costo computacional del modelo de árboles de regresión al ver su rendimiento con esta base de\n",
    "datos? \n",
    "\n",
    "Responda aquí:\n"
   ]
  },
  {
   "cell_type": "markdown",
   "metadata": {},
   "source": [
    "## Ejercicio 5\n",
    "\n",
    "En la siguiente celda, complete el código donde le sea indicado. Debe consultar todo lo relacionado al modelo Random Forests para clasificación de la librería scikit-learn. Consultar aquí: http://scikit-learn.org/stable/modules/generated/sklearn.ensemble.RandomForestClassifier.html"
   ]
  },
  {
   "cell_type": "code",
   "execution_count": 3,
   "metadata": {},
   "outputs": [
    {
     "ename": "SyntaxError",
     "evalue": "invalid syntax (<ipython-input-3-1547c99d913b>, line 34)",
     "output_type": "error",
     "traceback": [
      "\u001b[0;36m  File \u001b[0;32m\"<ipython-input-3-1547c99d913b>\"\u001b[0;36m, line \u001b[0;32m34\u001b[0m\n\u001b[0;31m    Y_est =\u001b[0m\n\u001b[0m            ^\u001b[0m\n\u001b[0;31mSyntaxError\u001b[0m\u001b[0;31m:\u001b[0m invalid syntax\n"
     ]
    }
   ],
   "source": [
    "from sklearn.ensemble import RandomForestClassifier\n",
    "\n",
    "def classification_error(y_est, y_real):\n",
    "    err = 0\n",
    "    for y_e, y_r in zip(y_est, y_real):\n",
    "        if y_e != y_r:\n",
    "            err += 1\n",
    "\n",
    "    return err/np.size(y_est)\n",
    "\n",
    "\n",
    "iris = datasets.load_iris()\n",
    "\n",
    "X = iris.data\n",
    "Y = iris.target\n",
    "\n",
    "Errores = np.zeros(10)\n",
    "j = 0\n",
    "#Aplicando Cross-validation con 10 folds\n",
    "\n",
    "kf = KFold(n_splits=5)\n",
    "\n",
    "for train_index, test_index in kf.split(X):\n",
    "    #print(\"TRAIN:\", train_index, \"TEST:\", test_index)\n",
    "    X_train, X_test = X[train_index], X[test_index]\n",
    "    y_train, y_test = Y[train_index], Y[test_index]  \n",
    "\n",
    "\n",
    "    #Complete el código aquí creado el modelo Random Forest para clasificar y entrenandolo solo con las muestras\n",
    "    #para entrenamiento de la base de datos IRIS\n",
    "    \n",
    "\n",
    "    #Complete el código aquí prediciendo la clase para las muestras de validación de la base de datos\n",
    "    Y_est = \n",
    "    \n",
    "    Errores[j] = classification_error(Y_est, y_test)\n",
    "    j += 1\n",
    "\n",
    "print \"accuracy: \" + str(1-np.mean(Errores))"
   ]
  },
  {
   "cell_type": "markdown",
   "metadata": {},
   "source": [
    "Compare la eficiencia arrojada por Random Forests y por los árboles de clasificación.\n",
    "\n",
    "5.1 Cuál modelo es mejor?\n",
    "\n",
    "Responda aquí:\n",
    "\n",
    "5.2 Por qué cree que se comporta mejor un modelo que el otro?\n",
    "\n",
    "Responda aquí:\n",
    "\n"
   ]
  },
  {
   "cell_type": "code",
   "execution_count": null,
   "metadata": {
    "collapsed": true
   },
   "outputs": [],
   "source": []
  }
 ],
 "metadata": {
  "kernelspec": {
   "display_name": "Python 3",
   "language": "python",
   "name": "python3"
  },
  "language_info": {
   "codemirror_mode": {
    "name": "ipython",
    "version": 3
   },
   "file_extension": ".py",
   "mimetype": "text/x-python",
   "name": "python",
   "nbconvert_exporter": "python",
   "pygments_lexer": "ipython3",
   "version": "3.6.4"
  }
 },
 "nbformat": 4,
 "nbformat_minor": 2
}
